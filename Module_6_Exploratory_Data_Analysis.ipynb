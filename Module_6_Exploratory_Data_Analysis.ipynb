{
 "cells": [
  {
   "cell_type": "markdown",
   "id": "5cb38b07",
   "metadata": {},
   "source": [
    "# Data Sourcing"
   ]
  },
  {
   "cell_type": "markdown",
   "id": "faed0e07",
   "metadata": {},
   "source": [
    "## Public and Private Data"
   ]
  },
  {
   "cell_type": "markdown",
   "id": "c2ef6e77",
   "metadata": {},
   "source": [
    "Data Sourcing\n",
    "Select the correct statement from below.\n",
    "\n",
    "\n",
    "Private data is not available to anyone for use.\n",
    "\n",
    "\n",
    "Both public and private data can be accessible, but the accessibility of private data needs to be approved by the respective organisation for security and privacy purposes.     ✓ Correct"
   ]
  },
  {
   "cell_type": "code",
   "execution_count": null,
   "id": "518cdbdf",
   "metadata": {},
   "outputs": [],
   "source": []
  },
  {
   "cell_type": "markdown",
   "id": "c0ef7c21",
   "metadata": {},
   "source": [
    "## Private Data"
   ]
  },
  {
   "cell_type": "markdown",
   "id": "75b65a88",
   "metadata": {},
   "source": [
    "EDA Application\n",
    "Consider a case of sales forecasting for a clothing brand, and select the correct options from below. More than one option may be correct.\n",
    "\n",
    "\n",
    "Based on the data points such as seasons, last year’s weather conditions, electricity tariffs, and holidays, we can predict the sales for this year as well.\n",
    "\n",
    "\n",
    "Using graphical analysis and statistical methods, we can get an idea of the supply and demand gap in different seasons during a particular year.\n",
    "\n",
    "\n",
    "The most popular products among customers can be identified through customer reviews and ratings, and focusing more on the most popular products may give yield revenue for the company.\n",
    "\n",
    "\n",
    "Prices of different clothing items can be revised based on the previous customer responses to a particular variety of clothes.\n",
    "\n",
    "                   all options are Correct"
   ]
  },
  {
   "cell_type": "markdown",
   "id": "981703d2",
   "metadata": {},
   "source": [
    "## Web Scraping-I"
   ]
  },
  {
   "cell_type": "markdown",
   "id": "13a66d7b",
   "metadata": {},
   "source": [
    "HTML Basics\n",
    "This is a snapshot of the Wikipedia page of Machine Learning. Select the correct option for the highlighted part in the image. You can find the link to this page here.\n",
    "\n",
    "\n",
    "\n",
    "It is a hyperlink tag.    ✓ Correct"
   ]
  },
  {
   "cell_type": "code",
   "execution_count": null,
   "id": "e6068d61",
   "metadata": {},
   "outputs": [],
   "source": []
  },
  {
   "cell_type": "markdown",
   "id": "5fccbd63",
   "metadata": {},
   "source": [
    "HTML Basics\n",
    "Select the correct class name of the heading on the Wikipedia page on Machine Learning. You can find the link to this page here.\n",
    "\n",
    "\n",
    "mw-headline\n",
    "\n",
    "\n",
    "firstHeading    ✓ Correct"
   ]
  },
  {
   "cell_type": "code",
   "execution_count": null,
   "id": "426681c5",
   "metadata": {},
   "outputs": [],
   "source": []
  },
  {
   "cell_type": "markdown",
   "id": "b01a26e7",
   "metadata": {},
   "source": [
    "## Web Scraping-II"
   ]
  },
  {
   "cell_type": "markdown",
   "id": "fe445adf",
   "metadata": {},
   "source": [
    "Web Scraping\n",
    "You already know that the HTML code has a nested structure. In the IMDB web page, there is a dedicated class which contains the genre of the movie. Dedicated class for the genre of the movie will be nested inside the other classes as well. Can you identify such classes which contain the genre of the movie in the HTML code of IMDB web page? More than one option may be correct.\n",
    "\n",
    " \n",
    "\n",
    "text-muted\n",
    "\n",
    "\n",
    "genre\n",
    "\n",
    "\n",
    "lister-item-content\n",
    "\n",
    "\n",
    "lister-item mode-advanced\n",
    "\n",
    "                    all are Correct"
   ]
  },
  {
   "cell_type": "code",
   "execution_count": null,
   "id": "168197fe",
   "metadata": {},
   "outputs": [],
   "source": []
  },
  {
   "cell_type": "markdown",
   "id": "0ea481f4",
   "metadata": {},
   "source": [
    "Web Scraping\n",
    "Suppose you want to fetch the little description of the movie “Fight Club” that is written just below the rating. What should be the correct code for that?\n",
    "\n",
    "\n",
    "des = containers[0].findAll(\"p\", {\"class\": \"text-muted\"})\n",
    "\n",
    "print(des.text)\n",
    "\n",
    "\n",
    "des = containers[3].findAll(\"p\", {\"class\": \"text-muted\"})\n",
    "\n",
    "print(des[1].text)     ✓ Correct"
   ]
  },
  {
   "cell_type": "code",
   "execution_count": null,
   "id": "2837a94f",
   "metadata": {},
   "outputs": [],
   "source": []
  },
  {
   "cell_type": "markdown",
   "id": "eeb60334",
   "metadata": {},
   "source": [
    "Web Scraping\n",
    "Suppose you want to fetch the votes for the movie “The Godfather”. What should be the correct code syntax for that?\n",
    "\n",
    "\n",
    "votes= containers[10].findAll(\"span\", {\"name\": \"nv\"})\n",
    "\n",
    "print(votes[0].text)\n",
    "\n",
    "\n",
    "votes= containers[9].findAll(\"span\", {\"name\": \"nv\"})\n",
    "\n",
    "print(votes[0].text)     ✓ Correct"
   ]
  },
  {
   "cell_type": "code",
   "execution_count": null,
   "id": "05e1de05",
   "metadata": {},
   "outputs": [],
   "source": []
  },
  {
   "cell_type": "markdown",
   "id": "3d39a4c8",
   "metadata": {},
   "source": [
    "# Data Cleaning"
   ]
  },
  {
   "cell_type": "markdown",
   "id": "eb347adc",
   "metadata": {},
   "source": [
    "## Data Types"
   ]
  },
  {
   "cell_type": "markdown",
   "id": "e2c7cf2a",
   "metadata": {},
   "source": [
    "Data Type\n",
    "Let's say there is a column in a dataset which essentially contains numerical values. But its data type is an object, which needs to be rectified and should be converted into int or float type.\n",
    "\n",
    "Choose the correct command to convert such object type column in a dataframe into integer or float type. More than one option may be correct.\n",
    "\n",
    "\n",
    "df[\"feature\"]= df[\"feature\"].astype(int)      ✓ Correct\n",
    "\n",
    "df.[\"feature\"]= df.[\"feature\"].astype(int)\n",
    "\n",
    "df[\"feature\"]= df[\"feature\"].astype(float)    ✓ Correct"
   ]
  },
  {
   "cell_type": "code",
   "execution_count": null,
   "id": "a641db91",
   "metadata": {},
   "outputs": [],
   "source": []
  },
  {
   "cell_type": "markdown",
   "id": "aca0a89f",
   "metadata": {},
   "source": [
    "Data Type\n",
    "Find the average age of the customers in the bank marketing data set.\n",
    "\n",
    "\n",
    "51\n",
    "\n",
    "\n",
    "40\n",
    "\n",
    "\n",
    "50\n",
    "\n",
    "\n",
    "41    ✓ Correct"
   ]
  },
  {
   "cell_type": "markdown",
   "id": "378e8057",
   "metadata": {},
   "source": [
    "## Fixing the Rows and Columns"
   ]
  },
  {
   "cell_type": "markdown",
   "id": "9c181871",
   "metadata": {},
   "source": [
    "Data Cleaning\n",
    "What points should be kept in mind while handling the rows and columns for preparing the data for analysis and to fetch maximum information from it?\n",
    "\n",
    "\n",
    "Simply remove the columns if you find more than 20% of data in that column as missing. It may reduce the bulkiness of the data set and make it simple to analyse.\n",
    "\n",
    "\n",
    "Splitting a column into 2 or 3 columns increases the number of variables in the data set. However, one should remember that splitting is not preferred unless you get any unique information.   ✓ Correct\n",
    "\n",
    "In the bank marketing dataset, you can bucket the data according to age group, for example, <30, 30-40, 40-50, 50-60, >70, It may yield better insights about the responses based on age groups.   ✓ Correct\n",
    "\n",
    "It is important to have information about the variables or instances, for example, whether they have null values, blank values or invalid values.     ✓ Correct"
   ]
  },
  {
   "cell_type": "code",
   "execution_count": null,
   "id": "7351ca01",
   "metadata": {},
   "outputs": [],
   "source": []
  },
  {
   "cell_type": "markdown",
   "id": "8d0e2132",
   "metadata": {},
   "source": [
    "## Impute/Remove Missing Values"
   ]
  },
  {
   "cell_type": "markdown",
   "id": "6bb6f8c2",
   "metadata": {},
   "source": [
    "Missing Values\n",
    "Implement the code in your blank Jupyter notebook and find the exact number of missing values in the response column. Choose the correct option from the below.\n",
    "\n",
    "\n",
    "30    ✓ Correct"
   ]
  },
  {
   "cell_type": "code",
   "execution_count": null,
   "id": "1d4ac528",
   "metadata": {},
   "outputs": [],
   "source": []
  },
  {
   "cell_type": "markdown",
   "id": "204253e6",
   "metadata": {},
   "source": [
    "Missing Values\n",
    "Implement the code in your blank Jupyter notebook and find the percentage of missing values in the response column. Choose the correct option from the below.\n",
    "\n",
    "\n",
    "1%\n",
    "\n",
    "\n",
    "0.1%\n",
    "\n",
    "\n",
    "0.06%    ✓ Correct"
   ]
  },
  {
   "cell_type": "code",
   "execution_count": null,
   "id": "1f079a8a",
   "metadata": {},
   "outputs": [],
   "source": []
  },
  {
   "cell_type": "markdown",
   "id": "eeef1e2e",
   "metadata": {},
   "source": [
    "Missing Values\n",
    "What do you think about the treatment of missing values in the response column?\n",
    "\n",
    "\n",
    "They should not be dropped, as that may affect the data set.\n",
    "\n",
    "\n",
    "They can be removed because they are very small in number as compared to entries in the dataset.     ✓ Correct"
   ]
  },
  {
   "cell_type": "code",
   "execution_count": null,
   "id": "28209df1",
   "metadata": {},
   "outputs": [],
   "source": []
  },
  {
   "cell_type": "markdown",
   "id": "a32eff6c",
   "metadata": {},
   "source": [
    "## Handling Outliers"
   ]
  },
  {
   "cell_type": "markdown",
   "id": "0cf2cdb4",
   "metadata": {},
   "source": [
    "Outliers\n",
    "Consider the following two statements:\n",
    "\n",
    "The difference between the maximum value of the balance variable and the 99th percentile is too high.\n",
    "\n",
    "The difference between the 99th percentile value and the 95th percentile value of the balance variable is in  the normal range, meaning it is not too high.\n",
    "\n",
    "Based on the above two statements, choose the correct option which concludes that the balance variable has outliers in it.\n",
    "\n",
    "\n",
    "Both the statement are together sufficient to conclude that it has outliers.     ✓ Correct"
   ]
  },
  {
   "cell_type": "code",
   "execution_count": null,
   "id": "c0443da4",
   "metadata": {},
   "outputs": [],
   "source": []
  },
  {
   "cell_type": "markdown",
   "id": "cd9d01db",
   "metadata": {},
   "source": [
    "Outliers\n",
    "Which of the following methods can be used to identify the outliers (univariate/multivariate) in the dataset?\n",
    "\n",
    "Hint : More than one answer can be correct\n",
    "    \n",
    "    \n",
    "\n",
    "Box plot can be used to plot the single variable and find its interquartile range and quantiles.     ✓ Correct\n",
    "\n",
    "The difference of each point from the mean/median value in the dataset is alone sufficient to identify whether a point is an outlier or not.\n",
    "\n",
    "\n",
    "Scatter plot can be used to identify the multivariate outliers.           ✓ Correct"
   ]
  },
  {
   "cell_type": "code",
   "execution_count": null,
   "id": "347a2f82",
   "metadata": {},
   "outputs": [],
   "source": []
  },
  {
   "cell_type": "markdown",
   "id": "0f3914ab",
   "metadata": {},
   "source": [
    "Outliers\n",
    "What is the mean and 75th percentile of the salary variable in bank marketing data set, respectively?\n",
    "\n",
    "57004, 70000    ✓ Correct"
   ]
  },
  {
   "cell_type": "code",
   "execution_count": null,
   "id": "d0b36e1b",
   "metadata": {},
   "outputs": [],
   "source": []
  },
  {
   "cell_type": "markdown",
   "id": "641f4d89",
   "metadata": {},
   "source": [
    "Outliers\n",
    "After plotting the boxplot, can you write your opinion about the outliers in the salary variable? Are there any outliers in salary?\n",
    "\n",
    "mera answer: aapko puchna hai to mcq pucho\n",
    "\n",
    "unko jo sunana hai vo answer:  Once you plot the boxplot, you see that the salary variable does not have any outliers.  All values lies  within the range of 100th percentile always."
   ]
  },
  {
   "cell_type": "code",
   "execution_count": null,
   "id": "9b142ffd",
   "metadata": {},
   "outputs": [],
   "source": []
  },
  {
   "cell_type": "markdown",
   "id": "5cd7d16b",
   "metadata": {},
   "source": [
    "## Graded Questions"
   ]
  },
  {
   "cell_type": "markdown",
   "id": "5a4b2338",
   "metadata": {},
   "source": [
    "Data Types\n",
    "You have “Attribute DataSet” which contains a column named “Price”. Choose the correct option for its data type and variable type.\n",
    "\n",
    "Object type and categorical ordinal variable    ✓ Correct"
   ]
  },
  {
   "cell_type": "code",
   "execution_count": null,
   "id": "2fc32a82",
   "metadata": {},
   "outputs": [],
   "source": []
  },
  {
   "cell_type": "markdown",
   "id": "7eed8b9a",
   "metadata": {},
   "source": [
    "Data Types\n",
    "There is another column in “Attribute DataSet” named as “Recommendation”, choose the correct statement for its data type and variable type.\n",
    "\n",
    "Integer type and categorical    ✓ Correct\n"
   ]
  },
  {
   "cell_type": "code",
   "execution_count": null,
   "id": "b9c22b0c",
   "metadata": {},
   "outputs": [],
   "source": []
  },
  {
   "cell_type": "markdown",
   "id": "d4450adf",
   "metadata": {},
   "source": [
    "Data Types\n",
    "Which of the following columns do you think are of no use in the Attribute DataSet?\n",
    "\n",
    "None of the above    ✓ Correct"
   ]
  },
  {
   "cell_type": "code",
   "execution_count": null,
   "id": "d9ce3748",
   "metadata": {},
   "outputs": [],
   "source": []
  },
  {
   "cell_type": "markdown",
   "id": "8939e72c",
   "metadata": {},
   "source": [
    "Fixing Rows and Columns\n",
    "As you can see, there is a column in the Attribute Dataset named 'Size’. This column contains the values in an abbreviated format. Write a code in Python to convert the followings:\n",
    "\n",
    "M into “Medium”\n",
    "\n",
    "L into “Large”\n",
    "\n",
    "XL into “Extra large”\n",
    "\n",
    "Free into “Free”\n",
    "\n",
    "S, s and small into “Small”\n",
    "\n",
    "Now, once you are done with changes in the dataset, what is the value of the lowest percentage, the highest percentage and the percentage of Small size categories in the column named “Size”, respectively?\n",
    "\n",
    "\n",
    "\n",
    "2.9%, 35.7%, 7.5%     ✓ Correct"
   ]
  },
  {
   "cell_type": "code",
   "execution_count": null,
   "id": "742c27a1",
   "metadata": {},
   "outputs": [],
   "source": []
  },
  {
   "cell_type": "markdown",
   "id": "d0f9b3f9",
   "metadata": {},
   "source": [
    "Impute/Remove Missing Values\n",
    "You are given another dataset named “Dress Sales”. Now if you observe the datatypes of the columns using ‘inp1.info()’ command, you can identify that there are certain columns defined as object data type though they primarily consist of numeric data.\n",
    "\n",
    "Now, if you try and convert these object data type columns into numeric data type(float), you will come across an error message. Choose the correct option with the reason for the error and also how to remove this error.\n",
    "\n",
    "\n",
    "Error occurred because there are string entries in such columns. You should replace these string values with null values and then convert it into float type.   ✓ Correct"
   ]
  },
  {
   "cell_type": "code",
   "execution_count": null,
   "id": "74770dd3",
   "metadata": {},
   "outputs": [],
   "source": []
  },
  {
   "cell_type": "markdown",
   "id": "84043ae9",
   "metadata": {},
   "source": [
    "Handling Missing Values\n",
    "When you see the null counts in “Dress Sales” dataset after performing all the operations that have been mentioned in Jupyter notebook, you will find that there are some columns in “Dress Sales” data where the number of missing values is more than 40%. Based on your understanding of dealing with missing values, select the most appropriate statement, with the reason.\n",
    "\n",
    "These columns can be removed because they have a huge number of missing values. Moreover, if you see, the number of sales (numerical values) in such columns is not so high as compared to other Date columns. Hence, it is safe to remove such columns.    ✓ Correct"
   ]
  },
  {
   "cell_type": "code",
   "execution_count": null,
   "id": "37b045ab",
   "metadata": {},
   "outputs": [],
   "source": []
  },
  {
   "cell_type": "markdown",
   "id": "85ff0259",
   "metadata": {},
   "source": [
    "Handling Missing Values\n",
    "You need to categorise the dates into seasons in “Dress Sales” data to simplify the analysis according to the following criteria:\n",
    "\n",
    "June, July and August: Summer.\n",
    "\n",
    "September, October and November: Autumn.\n",
    "\n",
    "December, January and February: Winter.\n",
    "\n",
    "March, April and May: Spring.\n",
    "\n",
    "Which of the seasons has the lowest sales among all the seasons, and what is its value?\n",
    "\n",
    "\n",
    "Spring, 143600   ✓ Correct"
   ]
  },
  {
   "cell_type": "code",
   "execution_count": null,
   "id": "4516d7d4",
   "metadata": {},
   "outputs": [],
   "source": []
  },
  {
   "cell_type": "markdown",
   "id": "bb92df28",
   "metadata": {},
   "source": [
    "Missing values handling\n",
    "You can see that there are two types of variables: one with a large number of missing values and another with very less number of missing values. These two columns can be categorised as:\n",
    "\n",
    "Type-1: Missing values are very less (around 2 or 3 missing values): Price, Season, NeckLine, SleeveLength, Winter and Autumn\n",
    "\n",
    "Type-2: Missing values are large in numbers (more than 15%): Material, FabricType, Decoration and Pattern Type\n",
    "\n",
    "Based on your understanding, which is the best method to deal with missing values in Type-1 and Type-2 columns?\n",
    "\n",
    "\n",
    "You should create a separate category named as Missing category in Type-2 columns and just drop the missing values of Type-1 columns.   ✓ Correct"
   ]
  },
  {
   "cell_type": "code",
   "execution_count": null,
   "id": "3d6c1eb5",
   "metadata": {},
   "outputs": [],
   "source": []
  },
  {
   "cell_type": "markdown",
   "id": "4ec807b4",
   "metadata": {},
   "source": [
    "Standardising Values\n",
    "In the given dataset, there are certain discrepancies with the categorical names such as irregular spellings. Choose the correct option of columns with irregular categories and update them.\n",
    "\n",
    "\n",
    "Season, SleeveLength\n",
    "\n",
    "✓ Correct\n",
    "Feedback:"
   ]
  },
  {
   "cell_type": "code",
   "execution_count": null,
   "id": "e9519097",
   "metadata": {},
   "outputs": [],
   "source": []
  },
  {
   "cell_type": "markdown",
   "id": "47601e3e",
   "metadata": {},
   "source": [
    "# Univariate Analysis"
   ]
  },
  {
   "cell_type": "markdown",
   "id": "f3bea34b",
   "metadata": {},
   "source": [
    "## Categorical Unordered Univariate Analysis"
   ]
  },
  {
   "cell_type": "markdown",
   "id": "991d9a0c",
   "metadata": {},
   "source": [
    "Unordered Categorical Variables\n",
    "Which of the following options are unordered categorical variables? Choose all correct options.\n",
    "\n",
    "\n",
    "The blood group of any person, such as A, B, O or AB.     ✓ Correct"
   ]
  },
  {
   "cell_type": "code",
   "execution_count": null,
   "id": "437dae23",
   "metadata": {},
   "outputs": [],
   "source": []
  },
  {
   "cell_type": "markdown",
   "id": "d9f2fd13",
   "metadata": {},
   "source": [
    "Unordered Categorical Variables\n",
    "Which of the two job categories are the least and the most contacted by the bank respectively?\n",
    "\n",
    "Student and blue-collar employee    ✓ Correct"
   ]
  },
  {
   "cell_type": "code",
   "execution_count": null,
   "id": "3ba9f262",
   "metadata": {},
   "outputs": [],
   "source": []
  },
  {
   "cell_type": "markdown",
   "id": "e095be3c",
   "metadata": {},
   "source": [
    "## Categorical Ordered Univariate Analysis"
   ]
  },
  {
   "cell_type": "markdown",
   "id": "5c82506d",
   "metadata": {},
   "source": [
    "Ordered Categorical Variables\n",
    "You have already worked with ordered categorical variables before - there is a certain order or notion of 'high-low', 'before-after', etc., among the categories. For example, the days of the week (Monday comes before Tuesday), grades of students (A is better than B), number of overs bowled by a bowler (3, 4, 9), etc.\n",
    "\n",
    "Which of the following are other examples of ordered categorical variables? Choose all correct options.\n",
    "\n",
    "\n",
    "\n",
    "Dates in a year, e.g., Jan 2, Mar 15, etc.    ✓ Correct\n",
    "\n",
    "Star rating of a restaurant on Zomato on a scale of 1-5.    ✓ Correct"
   ]
  },
  {
   "cell_type": "code",
   "execution_count": null,
   "id": "2020da39",
   "metadata": {},
   "outputs": [],
   "source": []
  },
  {
   "cell_type": "markdown",
   "id": "15959dbd",
   "metadata": {},
   "source": [
    "Ordered Categorical Variables\n",
    "Suppose you are given a data set containing the salary details of the citizens of a tier-2 city. The salaries are not provided in a numerical format but is given qualitatively, for instance, higher salary, above-average salary, average salary, below average salary and no income. Based on this data, how can you determine the standard of living of the citizens of this city? What steps would you follow in order to dissect this information? Write your answer in the comment box below.\n",
    "\n",
    "ans:\n",
    "First, you should plot the histogram of each category of salary, or you can find the count of each salary group in the data set. Once you have done this, you can predict which category has the highest count, and based on that information, you can predict the standard of living of the people in this city. Suppose you find that the maximum count is for the below-average salary category and the second highest is for the average salary category; thus, you can conclude that the standard of living of the city’s residents is not very high."
   ]
  },
  {
   "cell_type": "code",
   "execution_count": null,
   "id": "945df65e",
   "metadata": {},
   "outputs": [],
   "source": []
  },
  {
   "cell_type": "markdown",
   "id": "3b3fb862",
   "metadata": {},
   "source": [
    "## Statistics on Numerical Features"
   ]
  },
  {
   "cell_type": "markdown",
   "id": "f6ff8eeb",
   "metadata": {},
   "source": [
    "Statistics\n",
    "The table below shows the marks scored (out of 100) in a course exam:\n",
    "\n",
    "Quantiles\tMin\t10%\t25%\t50%\t75%\t90%\tMax\n",
    "Final Marks\t10\t48\t55\t66\t78\t87\t93\n",
    "Which of the following statements is FALSE? \n",
    "\n",
    "\n",
    "\n",
    "The median of class marks is more than 66.    ✓ Correct\n",
    "\n",
    "About 1/30 of the class received a score of 48 or less.    ✓ Correct"
   ]
  },
  {
   "cell_type": "code",
   "execution_count": null,
   "id": "23e699cf",
   "metadata": {},
   "outputs": [],
   "source": []
  },
  {
   "cell_type": "markdown",
   "id": "89887dc1",
   "metadata": {},
   "source": [
    "## Graded Questions"
   ]
  },
  {
   "cell_type": "markdown",
   "id": "6a48d006",
   "metadata": {},
   "source": [
    "Categorical Unordered Univariate Analysis (Multiple Correct Question)\n",
    "In the ‘Attribute Dataset’, there is a column named ‘Style’, which contains the different style categories of women's apparel. Certain categories whose total sales is less than 50,000 across all the seasons are grouped under a single category named ‘Others’.\n",
    "\n",
    "Which of the following categories under the ‘Style’ column can be grouped in the ‘Others’ category? Perform the grouping operation in the notebook for further analysis.\n",
    "\n",
    "(note: this can have multiple correct answers, select all which fulfil the requirement)\n",
    "\n",
    "\n",
    "\n",
    "Flare, Fashion   ✓ Correct\n",
    "\n",
    "\n",
    "Novelty, Fashion, Flare    ✓ Correct"
   ]
  },
  {
   "cell_type": "code",
   "execution_count": null,
   "id": "cb3e214e",
   "metadata": {},
   "outputs": [],
   "source": []
  },
  {
   "cell_type": "markdown",
   "id": "a561f78f",
   "metadata": {},
   "source": [
    "Categorical Unordered Univariate Analysis\n",
    "What is the respective percentage of the 'Cute' and 'Others' categories in the 'Style' column in the 'Attribute Dataset'?\n",
    "\n",
    "\n",
    "9%, 2.1%   ✓ Correct"
   ]
  },
  {
   "cell_type": "code",
   "execution_count": null,
   "id": "458c1fef",
   "metadata": {},
   "outputs": [],
   "source": []
  },
  {
   "cell_type": "markdown",
   "id": "3e7e340c",
   "metadata": {},
   "source": [
    "Categorical Ordered Univariate Analysis\n",
    "Which of the following is an unordered variable in the 'Attribute Dataset'?\n",
    "\n",
    "Style   ✓ Correct"
   ]
  },
  {
   "cell_type": "code",
   "execution_count": null,
   "id": "d4388862",
   "metadata": {},
   "outputs": [],
   "source": []
  },
  {
   "cell_type": "markdown",
   "id": "a4719841",
   "metadata": {},
   "source": [
    "Numerical Variable Univariate Analysis\n",
    "What is the approximate difference between the maximum value and the 75th percentile in the 'Autumn' column?\n",
    "\n",
    "Approximately 52,000    ✓ Correct"
   ]
  },
  {
   "cell_type": "code",
   "execution_count": null,
   "id": "73a3057d",
   "metadata": {},
   "outputs": [],
   "source": []
  },
  {
   "cell_type": "markdown",
   "id": "6332ba9d",
   "metadata": {},
   "source": [
    "Numerical Variable Univariate Analysis\n",
    "Which of the following seasons shows the highest difference between the maximum value and the 99th quantile of sales?\n",
    "\n",
    "Autumn    ✓ Correct"
   ]
  },
  {
   "cell_type": "code",
   "execution_count": null,
   "id": "712963b1",
   "metadata": {},
   "outputs": [],
   "source": []
  },
  {
   "cell_type": "markdown",
   "id": "e407bbd1",
   "metadata": {},
   "source": [
    "# Bivariate and Multivariate Analysis"
   ]
  },
  {
   "cell_type": "markdown",
   "id": "f700755e",
   "metadata": {},
   "source": [
    "## Numeric - Numeric Analysis"
   ]
  },
  {
   "cell_type": "markdown",
   "id": "f1ba3710",
   "metadata": {},
   "source": [
    "Correlation\n",
    "Out of the four plots, which has the least correlation coefficient?\n",
    "\n",
    "Plot-3   ✓ Correct"
   ]
  },
  {
   "cell_type": "code",
   "execution_count": null,
   "id": "722aa436",
   "metadata": {},
   "outputs": [],
   "source": []
  },
  {
   "cell_type": "markdown",
   "id": "338e888f",
   "metadata": {},
   "source": [
    "Correlation\n",
    "Which of the plots above has very a low correlation coefficient but has some relation between the variables?\n",
    "\n",
    "\n",
    "Plot-2    ✓ Correct"
   ]
  },
  {
   "cell_type": "code",
   "execution_count": null,
   "id": "9d85f1e8",
   "metadata": {},
   "outputs": [],
   "source": []
  },
  {
   "cell_type": "markdown",
   "id": "90105543",
   "metadata": {},
   "source": [
    "Correlation\n",
    "Which of the plots above has a negative correlation?\n",
    "\n",
    "\n",
    "Plot-4     ✓ Correct"
   ]
  },
  {
   "cell_type": "code",
   "execution_count": null,
   "id": "c7d6d899",
   "metadata": {},
   "outputs": [],
   "source": []
  },
  {
   "cell_type": "markdown",
   "id": "f8bfe7e6",
   "metadata": {},
   "source": [
    "## Numerical - Categorical Analysis"
   ]
  },
  {
   "cell_type": "markdown",
   "id": "a4d1c2cc",
   "metadata": {},
   "source": [
    "Numerical - Categorical Variable Analysis\n",
    "Which of the following education levels shows the highest mean and the lowest median value for salary, respectively?\n",
    "\n",
    "Tertiary and primary     ✓ Correct"
   ]
  },
  {
   "cell_type": "code",
   "execution_count": null,
   "id": "46cf9da2",
   "metadata": {},
   "outputs": [],
   "source": []
  },
  {
   "cell_type": "markdown",
   "id": "316e8da2",
   "metadata": {},
   "source": [
    "Numerical - Categorical Variable Analysis\n",
    "Here we have the bank marketing data set, which contains the job variable. What inferences can you draw by taking a look at the mean values of salary in each job category? Write your answer in the text box provided below.\n",
    "\n",
    "ans:\n",
    "When you calculate the mean value of salary for different job categories, the entrepreneur and management job categories emerge as the highest-paying jobs. The management job category is directly related to a higher education level, and hence, a higher salary is expected for such a job category. The lowest salary group is student, which is again true because they are not employed yet."
   ]
  },
  {
   "cell_type": "code",
   "execution_count": null,
   "id": "c3f2f56b",
   "metadata": {},
   "outputs": [],
   "source": []
  },
  {
   "cell_type": "markdown",
   "id": "5cc58fe2",
   "metadata": {},
   "source": [
    "## Graded Questions"
   ]
  },
  {
   "cell_type": "markdown",
   "id": "ea801109",
   "metadata": {},
   "source": [
    "Numerical - Categorical Bivariate Analysis\n",
    "Which of the following categories of the 'Price' column has the lowest average rating?\n",
    "\n",
    "High   ✓ Correct"
   ]
  },
  {
   "cell_type": "code",
   "execution_count": null,
   "id": "cdc7ced1",
   "metadata": {},
   "outputs": [],
   "source": []
  },
  {
   "cell_type": "markdown",
   "id": "85e93cc7",
   "metadata": {},
   "source": [
    "Numerical - Categorical Bivariate Analysis\n",
    "What is the median value of rating for the 'vintage' category in the Style column?\n",
    "\n",
    "4.6    ✓ Correct"
   ]
  },
  {
   "cell_type": "code",
   "execution_count": null,
   "id": "95179224",
   "metadata": {},
   "outputs": [],
   "source": []
  },
  {
   "cell_type": "markdown",
   "id": "e747ee81",
   "metadata": {},
   "source": [
    "Numerical - Categorical Bivariate Analysis\n",
    "Which of the following seasons shows the highest average value of sales for “Recommendation” value equals to 1.\n",
    "\n",
    "\n",
    "Autumn    ✓ Correct"
   ]
  },
  {
   "cell_type": "code",
   "execution_count": null,
   "id": "a43a1f4c",
   "metadata": {},
   "outputs": [],
   "source": []
  },
  {
   "cell_type": "markdown",
   "id": "694c24b2",
   "metadata": {},
   "source": [
    "Categorical - Categorical Bivariate Analysis\n",
    "Which of the following size categories has the most positive recommendations?\n",
    "\n",
    "Free and Medium    ✓ Correct"
   ]
  },
  {
   "cell_type": "code",
   "execution_count": null,
   "id": "bab74765",
   "metadata": {},
   "outputs": [],
   "source": []
  },
  {
   "cell_type": "markdown",
   "id": "36dacec9",
   "metadata": {},
   "source": [
    "Multivariate Analysis\n",
    "Which of the following pair of 'Style' and 'Price' categories has the highest average of positive recommendations?\n",
    "\n",
    "\n",
    "Price: medium, style: cute    ✓ Correct"
   ]
  },
  {
   "cell_type": "code",
   "execution_count": null,
   "id": "ab990f61",
   "metadata": {},
   "outputs": [],
   "source": []
  },
  {
   "cell_type": "markdown",
   "id": "9e012528",
   "metadata": {},
   "source": [
    "Multivariate Analysis\n",
    "Which of the following material types has no recommendation in summer and winter seasons?\n",
    "\n",
    "\n",
    "Milksilk and Microfiber     ✓ Correct"
   ]
  },
  {
   "cell_type": "code",
   "execution_count": null,
   "id": "b9845ae4",
   "metadata": {},
   "outputs": [],
   "source": []
  },
  {
   "cell_type": "code",
   "execution_count": 2,
   "id": "e8d893ae",
   "metadata": {},
   "outputs": [],
   "source": [
    "import  jovian"
   ]
  },
  {
   "cell_type": "code",
   "execution_count": null,
   "id": "3abf9898",
   "metadata": {},
   "outputs": [
    {
     "data": {
      "application/javascript": [
       "window.require && require([\"base/js/namespace\"],function(Jupyter){Jupyter.notebook.save_checkpoint()})"
      ],
      "text/plain": [
       "<IPython.core.display.Javascript object>"
      ]
     },
     "metadata": {},
     "output_type": "display_data"
    }
   ],
   "source": [
    "jovian.commit()"
   ]
  },
  {
   "cell_type": "code",
   "execution_count": null,
   "id": "ed761a37",
   "metadata": {},
   "outputs": [],
   "source": []
  }
 ],
 "metadata": {
  "language_info": {
   "codemirror_mode": {
    "name": "ipython",
    "version": 3
   },
   "file_extension": ".py",
   "mimetype": "text/x-python",
   "name": "python",
   "nbconvert_exporter": "python",
   "pygments_lexer": "ipython3",
   "version": "3.9.7"
  }
 },
 "nbformat": 4,
 "nbformat_minor": 5
}